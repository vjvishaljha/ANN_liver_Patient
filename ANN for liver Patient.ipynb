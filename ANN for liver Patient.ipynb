{
 "cells": [
  {
   "cell_type": "code",
   "execution_count": 141,
   "metadata": {},
   "outputs": [],
   "source": [
    "#importing the libraries\n",
    "import numpy as np\n",
    "import pandas as pd\n",
    "import matplotlib.pyplot as plt"
   ]
  },
  {
   "cell_type": "code",
   "execution_count": 142,
   "metadata": {},
   "outputs": [],
   "source": [
    "#importing the dataset \n",
    "dataset=pd.read_csv('indian_liver_patient.csv')"
   ]
  },
  {
   "cell_type": "code",
   "execution_count": 144,
   "metadata": {},
   "outputs": [
    {
     "data": {
      "text/html": [
       "<div>\n",
       "<style scoped>\n",
       "    .dataframe tbody tr th:only-of-type {\n",
       "        vertical-align: middle;\n",
       "    }\n",
       "\n",
       "    .dataframe tbody tr th {\n",
       "        vertical-align: top;\n",
       "    }\n",
       "\n",
       "    .dataframe thead th {\n",
       "        text-align: right;\n",
       "    }\n",
       "</style>\n",
       "<table border=\"1\" class=\"dataframe\">\n",
       "  <thead>\n",
       "    <tr style=\"text-align: right;\">\n",
       "      <th></th>\n",
       "      <th>Age</th>\n",
       "      <th>Gender</th>\n",
       "      <th>Total_Bilirubin</th>\n",
       "      <th>Direct_Bilirubin</th>\n",
       "      <th>Alkaline_Phosphotase</th>\n",
       "      <th>Alamine_Aminotransferase</th>\n",
       "      <th>Aspartate_Aminotransferase</th>\n",
       "      <th>Total_Protiens</th>\n",
       "      <th>Albumin</th>\n",
       "      <th>Albumin_and_Globulin_Ratio</th>\n",
       "      <th>Dataset</th>\n",
       "    </tr>\n",
       "  </thead>\n",
       "  <tbody>\n",
       "    <tr>\n",
       "      <th>0</th>\n",
       "      <td>65</td>\n",
       "      <td>Female</td>\n",
       "      <td>0.7</td>\n",
       "      <td>0.1</td>\n",
       "      <td>187</td>\n",
       "      <td>16</td>\n",
       "      <td>18</td>\n",
       "      <td>6.8</td>\n",
       "      <td>3.3</td>\n",
       "      <td>0.90</td>\n",
       "      <td>1</td>\n",
       "    </tr>\n",
       "    <tr>\n",
       "      <th>1</th>\n",
       "      <td>62</td>\n",
       "      <td>Male</td>\n",
       "      <td>10.9</td>\n",
       "      <td>5.5</td>\n",
       "      <td>699</td>\n",
       "      <td>64</td>\n",
       "      <td>100</td>\n",
       "      <td>7.5</td>\n",
       "      <td>3.2</td>\n",
       "      <td>0.74</td>\n",
       "      <td>1</td>\n",
       "    </tr>\n",
       "    <tr>\n",
       "      <th>2</th>\n",
       "      <td>62</td>\n",
       "      <td>Male</td>\n",
       "      <td>7.3</td>\n",
       "      <td>4.1</td>\n",
       "      <td>490</td>\n",
       "      <td>60</td>\n",
       "      <td>68</td>\n",
       "      <td>7.0</td>\n",
       "      <td>3.3</td>\n",
       "      <td>0.89</td>\n",
       "      <td>1</td>\n",
       "    </tr>\n",
       "    <tr>\n",
       "      <th>3</th>\n",
       "      <td>58</td>\n",
       "      <td>Male</td>\n",
       "      <td>1.0</td>\n",
       "      <td>0.4</td>\n",
       "      <td>182</td>\n",
       "      <td>14</td>\n",
       "      <td>20</td>\n",
       "      <td>6.8</td>\n",
       "      <td>3.4</td>\n",
       "      <td>1.00</td>\n",
       "      <td>1</td>\n",
       "    </tr>\n",
       "    <tr>\n",
       "      <th>4</th>\n",
       "      <td>72</td>\n",
       "      <td>Male</td>\n",
       "      <td>3.9</td>\n",
       "      <td>2.0</td>\n",
       "      <td>195</td>\n",
       "      <td>27</td>\n",
       "      <td>59</td>\n",
       "      <td>7.3</td>\n",
       "      <td>2.4</td>\n",
       "      <td>0.40</td>\n",
       "      <td>1</td>\n",
       "    </tr>\n",
       "  </tbody>\n",
       "</table>\n",
       "</div>"
      ],
      "text/plain": [
       "   Age  Gender  Total_Bilirubin  Direct_Bilirubin  Alkaline_Phosphotase  \\\n",
       "0   65  Female              0.7               0.1                   187   \n",
       "1   62    Male             10.9               5.5                   699   \n",
       "2   62    Male              7.3               4.1                   490   \n",
       "3   58    Male              1.0               0.4                   182   \n",
       "4   72    Male              3.9               2.0                   195   \n",
       "\n",
       "   Alamine_Aminotransferase  Aspartate_Aminotransferase  Total_Protiens  \\\n",
       "0                        16                          18             6.8   \n",
       "1                        64                         100             7.5   \n",
       "2                        60                          68             7.0   \n",
       "3                        14                          20             6.8   \n",
       "4                        27                          59             7.3   \n",
       "\n",
       "   Albumin  Albumin_and_Globulin_Ratio  Dataset  \n",
       "0      3.3                        0.90        1  \n",
       "1      3.2                        0.74        1  \n",
       "2      3.3                        0.89        1  \n",
       "3      3.4                        1.00        1  \n",
       "4      2.4                        0.40        1  "
      ]
     },
     "execution_count": 144,
     "metadata": {},
     "output_type": "execute_result"
    }
   ],
   "source": [
    "#checking the head of our dataset\n",
    "dataset.head()"
   ]
  },
  {
   "cell_type": "code",
   "execution_count": 145,
   "metadata": {},
   "outputs": [
    {
     "name": "stdout",
     "output_type": "stream",
     "text": [
      "<class 'pandas.core.frame.DataFrame'>\n",
      "RangeIndex: 583 entries, 0 to 582\n",
      "Data columns (total 11 columns):\n",
      "Age                           583 non-null int64\n",
      "Gender                        583 non-null object\n",
      "Total_Bilirubin               583 non-null float64\n",
      "Direct_Bilirubin              583 non-null float64\n",
      "Alkaline_Phosphotase          583 non-null int64\n",
      "Alamine_Aminotransferase      583 non-null int64\n",
      "Aspartate_Aminotransferase    583 non-null int64\n",
      "Total_Protiens                583 non-null float64\n",
      "Albumin                       583 non-null float64\n",
      "Albumin_and_Globulin_Ratio    579 non-null float64\n",
      "Dataset                       583 non-null int64\n",
      "dtypes: float64(5), int64(5), object(1)\n",
      "memory usage: 50.2+ KB\n"
     ]
    }
   ],
   "source": [
    "#checking the  info of the dataset \n",
    "dataset.info()"
   ]
  },
  {
   "cell_type": "code",
   "execution_count": 146,
   "metadata": {},
   "outputs": [
    {
     "data": {
      "text/plain": [
       "1    416\n",
       "2    167\n",
       "Name: Dataset, dtype: int64"
      ]
     },
     "execution_count": 146,
     "metadata": {},
     "output_type": "execute_result"
    }
   ],
   "source": [
    "#Counting the ocurrence of values of Dataset column\n",
    "dataset['Dataset'].value_counts()"
   ]
  },
  {
   "cell_type": "code",
   "execution_count": 147,
   "metadata": {},
   "outputs": [
    {
     "data": {
      "text/plain": [
       "0    416\n",
       "1    167\n",
       "Name: Dataset, dtype: int64"
      ]
     },
     "execution_count": 147,
     "metadata": {},
     "output_type": "execute_result"
    }
   ],
   "source": [
    "#Converting the Binary value of the Dataset column i.e 1 and 2\n",
    "#to 0 and 1 as our ANN model got confused and the loss function become negative\n",
    "dataset.loc[dataset['Dataset']==1,'Dataset']=0\n",
    "dataset.loc[dataset['Dataset']==2,'Dataset']=1\n",
    "dataset['Dataset'].value_counts()\n"
   ]
  },
  {
   "cell_type": "code",
   "execution_count": 148,
   "metadata": {},
   "outputs": [],
   "source": [
    "#For visualising\n",
    "import seaborn as sns"
   ]
  },
  {
   "cell_type": "code",
   "execution_count": 149,
   "metadata": {},
   "outputs": [
    {
     "data": {
      "text/plain": [
       "<matplotlib.axes._subplots.AxesSubplot at 0x25af03af9e8>"
      ]
     },
     "execution_count": 149,
     "metadata": {},
     "output_type": "execute_result"
    },
    {
     "data": {
      "image/png": "[encoded data removed]",
      "text/plain": [
       "<Figure size 432x288 with 1 Axes>"
      ]
     },
     "metadata": {
      "needs_background": "light"
     },
     "output_type": "display_data"
    }
   ],
   "source": [
    "#Counting the number of occurence of the different values of the Dataset column\n",
    "sns.countplot(dataset['Dataset'])"
   ]
  },
  {
   "cell_type": "code",
   "execution_count": 153,
   "metadata": {},
   "outputs": [
    {
     "data": {
      "text/plain": [
       "<matplotlib.axes._subplots.AxesSubplot at 0x25af0717940>"
      ]
     },
     "execution_count": 153,
     "metadata": {},
     "output_type": "execute_result"
    },
    {
     "data": {
      "image/png": "[encoded data removed]",
      "text/plain": [
       "<Figure size 432x288 with 1 Axes>"
      ]
     },
     "metadata": {
      "needs_background": "light"
     },
     "output_type": "display_data"
    }
   ],
   "source": [
    "#Checking the Average of the total proteins vs the Whether the person is liver patient or not.\n",
    "sns.boxplot(x='Dataset',y='Total_Protiens',hue='Gender',data=dataset)"
   ]
  },
  {
   "cell_type": "code",
   "execution_count": 168,
   "metadata": {},
   "outputs": [
    {
     "data": {
      "text/plain": [
       "<matplotlib.axes._subplots.AxesSubplot at 0x25af1e9c358>"
      ]
     },
     "execution_count": 168,
     "metadata": {},
     "output_type": "execute_result"
    },
    {
     "data": {
      "image/png": "[encoded data removed]",
      "text/plain": [
       "<Figure size 432x288 with 1 Axes>"
      ]
     },
     "metadata": {
      "needs_background": "light"
     },
     "output_type": "display_data"
    }
   ],
   "source": [
    "#Checking the Average of the Age vs the Whether the person is liver patient or not.\n",
    "sns.boxplot(x='Dataset',y='Albumin',hue='Gender',data=dataset,width=0.6)"
   ]
  },
  {
   "cell_type": "code",
   "execution_count": 171,
   "metadata": {},
   "outputs": [
    {
     "data": {
      "text/plain": [
       "<matplotlib.axes._subplots.AxesSubplot at 0x25af1ff30f0>"
      ]
     },
     "execution_count": 171,
     "metadata": {},
     "output_type": "execute_result"
    },
    {
     "data": {
      "image/png": "[encoded data removed]",
      "text/plain": [
       "<Figure size 432x288 with 1 Axes>"
      ]
     },
     "metadata": {
      "needs_background": "light"
     },
     "output_type": "display_data"
    }
   ],
   "source": [
    "#Checking the Average of the Albumin vs the Whether the person is liver patient or not.\n",
    "sns.boxplot(x='Dataset',y='Albumin',data=dataset,width=0.6)"
   ]
  },
  {
   "cell_type": "code",
   "execution_count": 172,
   "metadata": {},
   "outputs": [],
   "source": [
    "#Converting the Categorical features"
   ]
  },
  {
   "cell_type": "code",
   "execution_count": 173,
   "metadata": {},
   "outputs": [],
   "source": [
    "new_Data=pd.get_dummies(dataset,columns=['Gender'],drop_first=True)"
   ]
  },
  {
   "cell_type": "code",
   "execution_count": 174,
   "metadata": {},
   "outputs": [
    {
     "data": {
      "text/html": [
       "<div>\n",
       "<style scoped>\n",
       "    .dataframe tbody tr th:only-of-type {\n",
       "        vertical-align: middle;\n",
       "    }\n",
       "\n",
       "    .dataframe tbody tr th {\n",
       "        vertical-align: top;\n",
       "    }\n",
       "\n",
       "    .dataframe thead th {\n",
       "        text-align: right;\n",
       "    }\n",
       "</style>\n",
       "<table border=\"1\" class=\"dataframe\">\n",
       "  <thead>\n",
       "    <tr style=\"text-align: right;\">\n",
       "      <th></th>\n",
       "      <th>Age</th>\n",
       "      <th>Total_Bilirubin</th>\n",
       "      <th>Direct_Bilirubin</th>\n",
       "      <th>Alkaline_Phosphotase</th>\n",
       "      <th>Alamine_Aminotransferase</th>\n",
       "      <th>Aspartate_Aminotransferase</th>\n",
       "      <th>Total_Protiens</th>\n",
       "      <th>Albumin</th>\n",
       "      <th>Albumin_and_Globulin_Ratio</th>\n",
       "      <th>Dataset</th>\n",
       "      <th>Gender_Male</th>\n",
       "    </tr>\n",
       "  </thead>\n",
       "  <tbody>\n",
       "    <tr>\n",
       "      <th>0</th>\n",
       "      <td>65</td>\n",
       "      <td>0.7</td>\n",
       "      <td>0.1</td>\n",
       "      <td>187</td>\n",
       "      <td>16</td>\n",
       "      <td>18</td>\n",
       "      <td>6.8</td>\n",
       "      <td>3.3</td>\n",
       "      <td>0.90</td>\n",
       "      <td>0</td>\n",
       "      <td>0</td>\n",
       "    </tr>\n",
       "    <tr>\n",
       "      <th>1</th>\n",
       "      <td>62</td>\n",
       "      <td>10.9</td>\n",
       "      <td>5.5</td>\n",
       "      <td>699</td>\n",
       "      <td>64</td>\n",
       "      <td>100</td>\n",
       "      <td>7.5</td>\n",
       "      <td>3.2</td>\n",
       "      <td>0.74</td>\n",
       "      <td>0</td>\n",
       "      <td>1</td>\n",
       "    </tr>\n",
       "    <tr>\n",
       "      <th>2</th>\n",
       "      <td>62</td>\n",
       "      <td>7.3</td>\n",
       "      <td>4.1</td>\n",
       "      <td>490</td>\n",
       "      <td>60</td>\n",
       "      <td>68</td>\n",
       "      <td>7.0</td>\n",
       "      <td>3.3</td>\n",
       "      <td>0.89</td>\n",
       "      <td>0</td>\n",
       "      <td>1</td>\n",
       "    </tr>\n",
       "    <tr>\n",
       "      <th>3</th>\n",
       "      <td>58</td>\n",
       "      <td>1.0</td>\n",
       "      <td>0.4</td>\n",
       "      <td>182</td>\n",
       "      <td>14</td>\n",
       "      <td>20</td>\n",
       "      <td>6.8</td>\n",
       "      <td>3.4</td>\n",
       "      <td>1.00</td>\n",
       "      <td>0</td>\n",
       "      <td>1</td>\n",
       "    </tr>\n",
       "    <tr>\n",
       "      <th>4</th>\n",
       "      <td>72</td>\n",
       "      <td>3.9</td>\n",
       "      <td>2.0</td>\n",
       "      <td>195</td>\n",
       "      <td>27</td>\n",
       "      <td>59</td>\n",
       "      <td>7.3</td>\n",
       "      <td>2.4</td>\n",
       "      <td>0.40</td>\n",
       "      <td>0</td>\n",
       "      <td>1</td>\n",
       "    </tr>\n",
       "  </tbody>\n",
       "</table>\n",
       "</div>"
      ],
      "text/plain": [
       "   Age  Total_Bilirubin  Direct_Bilirubin  Alkaline_Phosphotase  \\\n",
       "0   65              0.7               0.1                   187   \n",
       "1   62             10.9               5.5                   699   \n",
       "2   62              7.3               4.1                   490   \n",
       "3   58              1.0               0.4                   182   \n",
       "4   72              3.9               2.0                   195   \n",
       "\n",
       "   Alamine_Aminotransferase  Aspartate_Aminotransferase  Total_Protiens  \\\n",
       "0                        16                          18             6.8   \n",
       "1                        64                         100             7.5   \n",
       "2                        60                          68             7.0   \n",
       "3                        14                          20             6.8   \n",
       "4                        27                          59             7.3   \n",
       "\n",
       "   Albumin  Albumin_and_Globulin_Ratio  Dataset  Gender_Male  \n",
       "0      3.3                        0.90        0            0  \n",
       "1      3.2                        0.74        0            1  \n",
       "2      3.3                        0.89        0            1  \n",
       "3      3.4                        1.00        0            1  \n",
       "4      2.4                        0.40        0            1  "
      ]
     },
     "execution_count": 174,
     "metadata": {},
     "output_type": "execute_result"
    }
   ],
   "source": [
    "new_Data.head()"
   ]
  },
  {
   "cell_type": "code",
   "execution_count": 175,
   "metadata": {},
   "outputs": [
    {
     "name": "stdout",
     "output_type": "stream",
     "text": [
      "<class 'pandas.core.frame.DataFrame'>\n",
      "RangeIndex: 583 entries, 0 to 582\n",
      "Data columns (total 11 columns):\n",
      "Age                           583 non-null int64\n",
      "Total_Bilirubin               583 non-null float64\n",
      "Direct_Bilirubin              583 non-null float64\n",
      "Alkaline_Phosphotase          583 non-null int64\n",
      "Alamine_Aminotransferase      583 non-null int64\n",
      "Aspartate_Aminotransferase    583 non-null int64\n",
      "Total_Protiens                583 non-null float64\n",
      "Albumin                       583 non-null float64\n",
      "Albumin_and_Globulin_Ratio    579 non-null float64\n",
      "Dataset                       583 non-null int64\n",
      "Gender_Male                   583 non-null uint8\n",
      "dtypes: float64(5), int64(5), uint8(1)\n",
      "memory usage: 46.2 KB\n"
     ]
    }
   ],
   "source": [
    "new_Data.info()"
   ]
  },
  {
   "cell_type": "code",
   "execution_count": 176,
   "metadata": {},
   "outputs": [
    {
     "data": {
      "text/plain": [
       "<matplotlib.axes._subplots.AxesSubplot at 0x25af204f5c0>"
      ]
     },
     "execution_count": 176,
     "metadata": {},
     "output_type": "execute_result"
    },
    {
     "data": {
      "image/png": "[encoded data removed]",
      "text/plain": [
       "<Figure size 432x288 with 1 Axes>"
      ]
     },
     "metadata": {
      "needs_background": "light"
     },
     "output_type": "display_data"
    }
   ],
   "source": [
    "#Checking for null data\n",
    "sns.heatmap(new_Data.isnull(),yticklabels=False,cbar=False,cmap='viridis')"
   ]
  },
  {
   "cell_type": "code",
   "execution_count": 177,
   "metadata": {},
   "outputs": [],
   "source": [
    "#converting the null value into mean value\n",
    "def Converter(data):\n",
    "    if pd.isnull(data):\n",
    "        return new_Data['Albumin_and_Globulin_Ratio'].mean()\n",
    "    else:\n",
    "        return data \n",
    "        "
   ]
  },
  {
   "cell_type": "code",
   "execution_count": 178,
   "metadata": {},
   "outputs": [],
   "source": [
    "#Applying the Function to column of the dataset that have null values\n",
    "new_Data['Albumin_and_Globulin_Ratio']=new_Data['Albumin_and_Globulin_Ratio'].apply(Converter)"
   ]
  },
  {
   "cell_type": "code",
   "execution_count": 179,
   "metadata": {},
   "outputs": [
    {
     "data": {
      "text/plain": [
       "<matplotlib.axes._subplots.AxesSubplot at 0x25af1fe4748>"
      ]
     },
     "execution_count": 179,
     "metadata": {},
     "output_type": "execute_result"
    },
    {
     "data": {
      "image/png": "[encoded data removed]",
      "text/plain": [
       "<Figure size 432x288 with 1 Axes>"
      ]
     },
     "metadata": {
      "needs_background": "light"
     },
     "output_type": "display_data"
    }
   ],
   "source": [
    "#Rechecking for null value\n",
    "sns.heatmap(new_Data.isnull(),yticklabels=False,cbar=False,cmap='viridis')"
   ]
  },
  {
   "cell_type": "code",
   "execution_count": 180,
   "metadata": {},
   "outputs": [],
   "source": [
    "#Converting the dataset into x and y(target variable)\n",
    "X=new_Data.drop('Dataset',axis=1)\n",
    "y=new_Data['Dataset']"
   ]
  },
  {
   "cell_type": "code",
   "execution_count": 181,
   "metadata": {},
   "outputs": [],
   "source": [
    "#Dividing the data into training and test set\n",
    "from sklearn.model_selection import train_test_split"
   ]
  },
  {
   "cell_type": "code",
   "execution_count": 182,
   "metadata": {},
   "outputs": [],
   "source": [
    "X_train, X_test, y_train, y_test = train_test_split(X, y, test_size=0.2)"
   ]
  },
  {
   "cell_type": "code",
   "execution_count": 183,
   "metadata": {},
   "outputs": [],
   "source": [
    "#feature scaling"
   ]
  },
  {
   "cell_type": "code",
   "execution_count": 184,
   "metadata": {},
   "outputs": [],
   "source": [
    "from sklearn.preprocessing import StandardScaler"
   ]
  },
  {
   "cell_type": "code",
   "execution_count": 185,
   "metadata": {},
   "outputs": [],
   "source": [
    "scaler=StandardScaler()"
   ]
  },
  {
   "cell_type": "code",
   "execution_count": 188,
   "metadata": {},
   "outputs": [],
   "source": [
    "X_train=scaler.fit_transform(X_train)"
   ]
  },
  {
   "cell_type": "code",
   "execution_count": 189,
   "metadata": {},
   "outputs": [],
   "source": [
    "X_test=scaler.transform(X_test)"
   ]
  },
  {
   "cell_type": "code",
   "execution_count": 190,
   "metadata": {},
   "outputs": [],
   "source": [
    "import keras\n"
   ]
  },
  {
   "cell_type": "code",
   "execution_count": 191,
   "metadata": {},
   "outputs": [],
   "source": [
    "#importing the libraries for our ANN Model\n",
    "from keras.models import Sequential\n",
    "from keras.layers import Dense\n",
    "from keras.layers import Dropout"
   ]
  },
  {
   "cell_type": "code",
   "execution_count": 192,
   "metadata": {},
   "outputs": [],
   "source": [
    "#Initialising the model\n",
    "model=Sequential()"
   ]
  },
  {
   "cell_type": "code",
   "execution_count": 193,
   "metadata": {},
   "outputs": [],
   "source": [
    "#adding the first layer\n",
    "model.add(Dense(units=6,kernel_initializer='uniform',activation='relu',input_dim=10))\n",
    "model.add(Dropout(2))"
   ]
  },
  {
   "cell_type": "code",
   "execution_count": 194,
   "metadata": {},
   "outputs": [],
   "source": [
    "#new_Data.info()\n",
    "#adding the second layer\n",
    "model.add(Dense(units=6,kernel_initializer='uniform',activation='relu'))\n",
    "model.add(Dropout(2))"
   ]
  },
  {
   "cell_type": "code",
   "execution_count": 195,
   "metadata": {},
   "outputs": [],
   "source": [
    "#adding the output layer\n",
    "model.add(Dense(units=1,kernel_initializer='uniform',activation='sigmoid'))\n",
    "model.add(Dropout(2))"
   ]
  },
  {
   "cell_type": "code",
   "execution_count": 196,
   "metadata": {},
   "outputs": [],
   "source": [
    "#compiling all the layer together\n",
    "model.compile(optimizer='adam',loss='binary_crossentropy',metrics=['accuracy'])"
   ]
  },
  {
   "cell_type": "code",
   "execution_count": 198,
   "metadata": {},
   "outputs": [
    {
     "name": "stdout",
     "output_type": "stream",
     "text": [
      "Epoch 1/400\n",
      "466/466 [==============================] - 0s 81us/step - loss: 0.5028 - acc: 0.7296\n",
      "Epoch 2/400\n",
      "466/466 [==============================] - 0s 103us/step - loss: 0.5023 - acc: 0.7318\n",
      "Epoch 3/400\n",
      "466/466 [==============================] - 0s 120us/step - loss: 0.5021 - acc: 0.7253\n",
      "Epoch 4/400\n",
      "466/466 [==============================] - 0s 150us/step - loss: 0.5019 - acc: 0.7361\n",
      "Epoch 5/400\n",
      "466/466 [==============================] - 0s 135us/step - loss: 0.5022 - acc: 0.7296\n",
      "Epoch 6/400\n",
      "466/466 [==============================] - 0s 109us/step - loss: 0.5023 - acc: 0.7253\n",
      "Epoch 7/400\n",
      "466/466 [==============================] - 0s 131us/step - loss: 0.5021 - acc: 0.7124\n",
      "Epoch 8/400\n",
      "466/466 [==============================] - 0s 120us/step - loss: 0.5022 - acc: 0.7124\n",
      "Epoch 9/400\n",
      "466/466 [==============================] - 0s 139us/step - loss: 0.5020 - acc: 0.7210\n",
      "Epoch 10/400\n",
      "466/466 [==============================] - 0s 112us/step - loss: 0.5023 - acc: 0.7189\n",
      "Epoch 11/400\n",
      "466/466 [==============================] - 0s 133us/step - loss: 0.5021 - acc: 0.7296\n",
      "Epoch 12/400\n",
      "466/466 [==============================] - 0s 157us/step - loss: 0.5017 - acc: 0.7296\n",
      "Epoch 13/400\n",
      "466/466 [==============================] - 0s 137us/step - loss: 0.5018 - acc: 0.7275\n",
      "Epoch 14/400\n",
      "466/466 [==============================] - 0s 133us/step - loss: 0.5022 - acc: 0.7253\n",
      "Epoch 15/400\n",
      "466/466 [==============================] - 0s 161us/step - loss: 0.5017 - acc: 0.7275\n",
      "Epoch 16/400\n",
      "466/466 [==============================] - 0s 212us/step - loss: 0.5019 - acc: 0.7275\n",
      "Epoch 17/400\n",
      "466/466 [==============================] - 0s 114us/step - loss: 0.5021 - acc: 0.7210\n",
      "Epoch 18/400\n",
      "466/466 [==============================] - 0s 167us/step - loss: 0.5015 - acc: 0.7296\n",
      "Epoch 19/400\n",
      "466/466 [==============================] - 0s 199us/step - loss: 0.5016 - acc: 0.7275\n",
      "Epoch 20/400\n",
      "466/466 [==============================] - 0s 161us/step - loss: 0.5015 - acc: 0.7167\n",
      "Epoch 21/400\n",
      "466/466 [==============================] - 0s 169us/step - loss: 0.5014 - acc: 0.7253\n",
      "Epoch 22/400\n",
      "466/466 [==============================] - 0s 118us/step - loss: 0.5014 - acc: 0.7296\n",
      "Epoch 23/400\n",
      "466/466 [==============================] - 0s 114us/step - loss: 0.5014 - acc: 0.7253\n",
      "Epoch 24/400\n",
      "466/466 [==============================] - 0s 148us/step - loss: 0.5011 - acc: 0.7275\n",
      "Epoch 25/400\n",
      "466/466 [==============================] - 0s 129us/step - loss: 0.5013 - acc: 0.7232\n",
      "Epoch 26/400\n",
      "466/466 [==============================] - 0s 116us/step - loss: 0.5015 - acc: 0.7275\n",
      "Epoch 27/400\n",
      "466/466 [==============================] - 0s 129us/step - loss: 0.5015 - acc: 0.7232\n",
      "Epoch 28/400\n",
      "466/466 [==============================] - 0s 94us/step - loss: 0.5024 - acc: 0.7189\n",
      "Epoch 29/400\n",
      "466/466 [==============================] - 0s 129us/step - loss: 0.5011 - acc: 0.7253\n",
      "Epoch 30/400\n",
      "466/466 [==============================] - 0s 118us/step - loss: 0.5015 - acc: 0.7296\n",
      "Epoch 31/400\n",
      "466/466 [==============================] - 0s 139us/step - loss: 0.5014 - acc: 0.7296\n",
      "Epoch 32/400\n",
      "466/466 [==============================] - 0s 129us/step - loss: 0.5008 - acc: 0.7167\n",
      "Epoch 33/400\n",
      "466/466 [==============================] - 0s 150us/step - loss: 0.5012 - acc: 0.7210\n",
      "Epoch 34/400\n",
      "466/466 [==============================] - 0s 137us/step - loss: 0.5010 - acc: 0.7318\n",
      "Epoch 35/400\n",
      "466/466 [==============================] - 0s 146us/step - loss: 0.5008 - acc: 0.7275\n",
      "Epoch 36/400\n",
      "466/466 [==============================] - 0s 157us/step - loss: 0.5005 - acc: 0.7146\n",
      "Epoch 37/400\n",
      "466/466 [==============================] - 0s 161us/step - loss: 0.5007 - acc: 0.7189\n",
      "Epoch 38/400\n",
      "466/466 [==============================] - 0s 182us/step - loss: 0.5007 - acc: 0.7253\n",
      "Epoch 39/400\n",
      "466/466 [==============================] - 0s 152us/step - loss: 0.5006 - acc: 0.7232\n",
      "Epoch 40/400\n",
      "466/466 [==============================] - 0s 161us/step - loss: 0.5005 - acc: 0.7253\n",
      "Epoch 41/400\n",
      "466/466 [==============================] - 0s 142us/step - loss: 0.5009 - acc: 0.7253\n",
      "Epoch 42/400\n",
      "466/466 [==============================] - 0s 116us/step - loss: 0.5004 - acc: 0.7253\n",
      "Epoch 43/400\n",
      "466/466 [==============================] - 0s 182us/step - loss: 0.5001 - acc: 0.7232\n",
      "Epoch 44/400\n",
      "466/466 [==============================] - 0s 146us/step - loss: 0.5000 - acc: 0.7253\n",
      "Epoch 45/400\n",
      "466/466 [==============================] - 0s 182us/step - loss: 0.4998 - acc: 0.7232\n",
      "Epoch 46/400\n",
      "466/466 [==============================] - 0s 227us/step - loss: 0.4999 - acc: 0.7232\n",
      "Epoch 47/400\n",
      "466/466 [==============================] - 0s 159us/step - loss: 0.4998 - acc: 0.7296\n",
      "Epoch 48/400\n",
      "466/466 [==============================] - 0s 120us/step - loss: 0.4997 - acc: 0.7210\n",
      "Epoch 49/400\n",
      "466/466 [==============================] - 0s 191us/step - loss: 0.4997 - acc: 0.7232\n",
      "Epoch 50/400\n",
      "466/466 [==============================] - 0s 238us/step - loss: 0.4995 - acc: 0.7210\n",
      "Epoch 51/400\n",
      "466/466 [==============================] - 0s 249us/step - loss: 0.4995 - acc: 0.7189\n",
      "Epoch 52/400\n",
      "466/466 [==============================] - 0s 182us/step - loss: 0.4996 - acc: 0.7210\n",
      "Epoch 53/400\n",
      "466/466 [==============================] - 0s 127us/step - loss: 0.4992 - acc: 0.7253\n",
      "Epoch 54/400\n",
      "466/466 [==============================] - 0s 135us/step - loss: 0.4993 - acc: 0.7232\n",
      "Epoch 55/400\n",
      "466/466 [==============================] - 0s 178us/step - loss: 0.4995 - acc: 0.7253\n",
      "Epoch 56/400\n",
      "466/466 [==============================] - 0s 171us/step - loss: 0.4989 - acc: 0.7210\n",
      "Epoch 57/400\n",
      "466/466 [==============================] - 0s 143us/step - loss: 0.4989 - acc: 0.7275\n",
      "Epoch 58/400\n",
      "466/466 [==============================] - 0s 124us/step - loss: 0.4990 - acc: 0.7210\n",
      "Epoch 59/400\n",
      "466/466 [==============================] - 0s 118us/step - loss: 0.4994 - acc: 0.7275\n",
      "Epoch 60/400\n",
      "466/466 [==============================] - 0s 142us/step - loss: 0.4988 - acc: 0.7189\n",
      "Epoch 61/400\n",
      "466/466 [==============================] - 0s 107us/step - loss: 0.4987 - acc: 0.7210\n",
      "Epoch 62/400\n",
      "466/466 [==============================] - 0s 108us/step - loss: 0.4988 - acc: 0.7189\n",
      "Epoch 63/400\n",
      "466/466 [==============================] - 0s 124us/step - loss: 0.4987 - acc: 0.7232\n",
      "Epoch 64/400\n",
      "466/466 [==============================] - 0s 114us/step - loss: 0.4989 - acc: 0.7232\n",
      "Epoch 65/400\n",
      "466/466 [==============================] - 0s 135us/step - loss: 0.4989 - acc: 0.7253\n",
      "Epoch 66/400\n",
      "466/466 [==============================] - 0s 211us/step - loss: 0.4990 - acc: 0.7189\n",
      "Epoch 67/400\n",
      "466/466 [==============================] - 0s 221us/step - loss: 0.4992 - acc: 0.7210\n",
      "Epoch 68/400\n",
      "466/466 [==============================] - 0s 157us/step - loss: 0.4991 - acc: 0.7210\n",
      "Epoch 69/400\n",
      "466/466 [==============================] - 0s 116us/step - loss: 0.4985 - acc: 0.7275\n",
      "Epoch 70/400\n",
      "466/466 [==============================] - 0s 146us/step - loss: 0.4987 - acc: 0.7210\n",
      "Epoch 71/400\n",
      "466/466 [==============================] - 0s 172us/step - loss: 0.4984 - acc: 0.7210\n",
      "Epoch 72/400\n",
      "466/466 [==============================] - 0s 169us/step - loss: 0.4983 - acc: 0.7210\n",
      "Epoch 73/400\n",
      "466/466 [==============================] - 0s 146us/step - loss: 0.4984 - acc: 0.7210\n",
      "Epoch 74/400\n",
      "466/466 [==============================] - 0s 176us/step - loss: 0.4990 - acc: 0.7210\n",
      "Epoch 75/400\n",
      "466/466 [==============================] - 0s 117us/step - loss: 0.4982 - acc: 0.7210\n",
      "Epoch 76/400\n",
      "466/466 [==============================] - 0s 102us/step - loss: 0.4984 - acc: 0.7210\n",
      "Epoch 77/400\n",
      "466/466 [==============================] - 0s 97us/step - loss: 0.4983 - acc: 0.7210\n",
      "Epoch 78/400\n",
      "466/466 [==============================] - 0s 114us/step - loss: 0.4983 - acc: 0.7232\n",
      "Epoch 79/400\n",
      "466/466 [==============================] - 0s 79us/step - loss: 0.4981 - acc: 0.7275\n",
      "Epoch 80/400\n",
      "466/466 [==============================] - 0s 136us/step - loss: 0.4984 - acc: 0.7232\n",
      "Epoch 81/400\n",
      "466/466 [==============================] - 0s 105us/step - loss: 0.4980 - acc: 0.7253\n",
      "Epoch 82/400\n",
      "466/466 [==============================] - 0s 172us/step - loss: 0.4982 - acc: 0.7253\n",
      "Epoch 83/400\n"
     ]
    },
    {
     "name": "stdout",
     "output_type": "stream",
     "text": [
      "466/466 [==============================] - 0s 183us/step - loss: 0.4983 - acc: 0.7189\n",
      "Epoch 84/400\n",
      "466/466 [==============================] - 0s 163us/step - loss: 0.4989 - acc: 0.7189\n",
      "Epoch 85/400\n",
      "466/466 [==============================] - 0s 93us/step - loss: 0.4978 - acc: 0.7232\n",
      "Epoch 86/400\n",
      "466/466 [==============================] - 0s 92us/step - loss: 0.4978 - acc: 0.7210\n",
      "Epoch 87/400\n",
      "466/466 [==============================] - 0s 108us/step - loss: 0.4977 - acc: 0.7253\n",
      "Epoch 88/400\n",
      "466/466 [==============================] - 0s 93us/step - loss: 0.4981 - acc: 0.7296\n",
      "Epoch 89/400\n",
      "466/466 [==============================] - 0s 95us/step - loss: 0.4977 - acc: 0.7232\n",
      "Epoch 90/400\n",
      "466/466 [==============================] - 0s 112us/step - loss: 0.4978 - acc: 0.7253\n",
      "Epoch 91/400\n",
      "466/466 [==============================] - 0s 105us/step - loss: 0.4978 - acc: 0.7296\n",
      "Epoch 92/400\n",
      "466/466 [==============================] - 0s 117us/step - loss: 0.4976 - acc: 0.7275\n",
      "Epoch 93/400\n",
      "466/466 [==============================] - 0s 148us/step - loss: 0.4975 - acc: 0.7232\n",
      "Epoch 94/400\n",
      "466/466 [==============================] - 0s 109us/step - loss: 0.4988 - acc: 0.7318\n",
      "Epoch 95/400\n",
      "466/466 [==============================] - 0s 97us/step - loss: 0.4977 - acc: 0.7318\n",
      "Epoch 96/400\n",
      "466/466 [==============================] - 0s 86us/step - loss: 0.4975 - acc: 0.7296\n",
      "Epoch 97/400\n",
      "466/466 [==============================] - 0s 88us/step - loss: 0.4979 - acc: 0.7296\n",
      "Epoch 98/400\n",
      "466/466 [==============================] - 0s 90us/step - loss: 0.4978 - acc: 0.7210\n",
      "Epoch 99/400\n",
      "466/466 [==============================] - 0s 77us/step - loss: 0.4976 - acc: 0.7253\n",
      "Epoch 100/400\n",
      "466/466 [==============================] - 0s 86us/step - loss: 0.4975 - acc: 0.7253\n",
      "Epoch 101/400\n",
      "466/466 [==============================] - 0s 73us/step - loss: 0.4979 - acc: 0.7232\n",
      "Epoch 102/400\n",
      "466/466 [==============================] - 0s 75us/step - loss: 0.4973 - acc: 0.7232\n",
      "Epoch 103/400\n",
      "466/466 [==============================] - 0s 71us/step - loss: 0.4971 - acc: 0.7275\n",
      "Epoch 104/400\n",
      "466/466 [==============================] - 0s 71us/step - loss: 0.4975 - acc: 0.7318\n",
      "Epoch 105/400\n",
      "466/466 [==============================] - 0s 71us/step - loss: 0.4978 - acc: 0.7253\n",
      "Epoch 106/400\n",
      "466/466 [==============================] - 0s 77us/step - loss: 0.4973 - acc: 0.7275\n",
      "Epoch 107/400\n",
      "466/466 [==============================] - 0s 71us/step - loss: 0.4968 - acc: 0.7275\n",
      "Epoch 108/400\n",
      "466/466 [==============================] - 0s 86us/step - loss: 0.4972 - acc: 0.7253\n",
      "Epoch 109/400\n",
      "466/466 [==============================] - 0s 116us/step - loss: 0.4972 - acc: 0.7253\n",
      "Epoch 110/400\n",
      "466/466 [==============================] - 0s 116us/step - loss: 0.4978 - acc: 0.7296\n",
      "Epoch 111/400\n",
      "466/466 [==============================] - 0s 122us/step - loss: 0.4967 - acc: 0.7275\n",
      "Epoch 112/400\n",
      "466/466 [==============================] - 0s 139us/step - loss: 0.4968 - acc: 0.7296\n",
      "Epoch 113/400\n",
      "466/466 [==============================] - 0s 152us/step - loss: 0.4969 - acc: 0.7253\n",
      "Epoch 114/400\n",
      "466/466 [==============================] - 0s 75us/step - loss: 0.4975 - acc: 0.7232\n",
      "Epoch 115/400\n",
      "466/466 [==============================] - 0s 64us/step - loss: 0.4969 - acc: 0.7275\n",
      "Epoch 116/400\n",
      "466/466 [==============================] - 0s 62us/step - loss: 0.4972 - acc: 0.7296\n",
      "Epoch 117/400\n",
      "466/466 [==============================] - 0s 69us/step - loss: 0.4964 - acc: 0.7253\n",
      "Epoch 118/400\n",
      "466/466 [==============================] - 0s 62us/step - loss: 0.4967 - acc: 0.7275\n",
      "Epoch 119/400\n",
      "466/466 [==============================] - 0s 66us/step - loss: 0.4976 - acc: 0.7253\n",
      "Epoch 120/400\n",
      "466/466 [==============================] - ETA: 0s - loss: 0.4433 - acc: 0.700 - 0s 64us/step - loss: 0.4961 - acc: 0.7275\n",
      "Epoch 121/400\n",
      "466/466 [==============================] - 0s 84us/step - loss: 0.4960 - acc: 0.7275\n",
      "Epoch 122/400\n",
      "466/466 [==============================] - 0s 86us/step - loss: 0.4963 - acc: 0.7382\n",
      "Epoch 123/400\n",
      "466/466 [==============================] - 0s 92us/step - loss: 0.4971 - acc: 0.7361\n",
      "Epoch 124/400\n",
      "466/466 [==============================] - 0s 101us/step - loss: 0.4959 - acc: 0.7425\n",
      "Epoch 125/400\n",
      "466/466 [==============================] - ETA: 0s - loss: 0.4089 - acc: 0.800 - 0s 105us/step - loss: 0.4958 - acc: 0.7253\n",
      "Epoch 126/400\n",
      "466/466 [==============================] - 0s 112us/step - loss: 0.4960 - acc: 0.7253\n",
      "Epoch 127/400\n",
      "466/466 [==============================] - 0s 139us/step - loss: 0.4958 - acc: 0.7296\n",
      "Epoch 128/400\n",
      "466/466 [==============================] - 0s 81us/step - loss: 0.4958 - acc: 0.7275\n",
      "Epoch 129/400\n",
      "466/466 [==============================] - 0s 75us/step - loss: 0.4963 - acc: 0.7339\n",
      "Epoch 130/400\n",
      "466/466 [==============================] - 0s 135us/step - loss: 0.4958 - acc: 0.7382\n",
      "Epoch 131/400\n",
      "466/466 [==============================] - 0s 120us/step - loss: 0.4954 - acc: 0.7296\n",
      "Epoch 132/400\n",
      "466/466 [==============================] - 0s 148us/step - loss: 0.4960 - acc: 0.7232\n",
      "Epoch 133/400\n",
      "466/466 [==============================] - 0s 219us/step - loss: 0.4968 - acc: 0.7339\n",
      "Epoch 134/400\n",
      "466/466 [==============================] - 0s 172us/step - loss: 0.4960 - acc: 0.7232\n",
      "Epoch 135/400\n",
      "466/466 [==============================] - 0s 112us/step - loss: 0.4952 - acc: 0.7253\n",
      "Epoch 136/400\n",
      "466/466 [==============================] - 0s 154us/step - loss: 0.4968 - acc: 0.7339\n",
      "Epoch 137/400\n",
      "466/466 [==============================] - 0s 167us/step - loss: 0.4957 - acc: 0.7318\n",
      "Epoch 138/400\n",
      "466/466 [==============================] - 0s 184us/step - loss: 0.4955 - acc: 0.7318\n",
      "Epoch 139/400\n",
      "466/466 [==============================] - 0s 146us/step - loss: 0.4952 - acc: 0.7318\n",
      "Epoch 140/400\n",
      "466/466 [==============================] - 0s 114us/step - loss: 0.4953 - acc: 0.7232\n",
      "Epoch 141/400\n",
      "466/466 [==============================] - 0s 152us/step - loss: 0.4951 - acc: 0.7318\n",
      "Epoch 142/400\n",
      "466/466 [==============================] - 0s 146us/step - loss: 0.4949 - acc: 0.7361\n",
      "Epoch 143/400\n",
      "466/466 [==============================] - 0s 204us/step - loss: 0.4958 - acc: 0.7296\n",
      "Epoch 144/400\n",
      "466/466 [==============================] - 0s 174us/step - loss: 0.4947 - acc: 0.7318\n",
      "Epoch 145/400\n",
      "466/466 [==============================] - 0s 120us/step - loss: 0.4949 - acc: 0.7296\n",
      "Epoch 146/400\n",
      "466/466 [==============================] - 0s 139us/step - loss: 0.4950 - acc: 0.7275\n",
      "Epoch 147/400\n",
      "466/466 [==============================] - 0s 133us/step - loss: 0.4943 - acc: 0.7361\n",
      "Epoch 148/400\n",
      "466/466 [==============================] - 0s 114us/step - loss: 0.4944 - acc: 0.7275\n",
      "Epoch 149/400\n",
      "466/466 [==============================] - 0s 133us/step - loss: 0.4944 - acc: 0.7339\n",
      "Epoch 150/400\n",
      "466/466 [==============================] - 0s 137us/step - loss: 0.4943 - acc: 0.7318\n",
      "Epoch 151/400\n",
      "466/466 [==============================] - 0s 172us/step - loss: 0.4947 - acc: 0.7425\n",
      "Epoch 152/400\n",
      "466/466 [==============================] - 0s 157us/step - loss: 0.4942 - acc: 0.7361\n",
      "Epoch 153/400\n",
      "466/466 [==============================] - 0s 157us/step - loss: 0.4950 - acc: 0.7318\n",
      "Epoch 154/400\n",
      "466/466 [==============================] - 0s 148us/step - loss: 0.4942 - acc: 0.7318\n",
      "Epoch 155/400\n",
      "466/466 [==============================] - 0s 139us/step - loss: 0.4940 - acc: 0.7318\n",
      "Epoch 156/400\n",
      "466/466 [==============================] - 0s 109us/step - loss: 0.4944 - acc: 0.7339\n",
      "Epoch 157/400\n",
      "466/466 [==============================] - 0s 109us/step - loss: 0.4942 - acc: 0.7403\n",
      "Epoch 158/400\n",
      "466/466 [==============================] - 0s 105us/step - loss: 0.4952 - acc: 0.7296\n",
      "Epoch 159/400\n",
      "466/466 [==============================] - 0s 107us/step - loss: 0.4947 - acc: 0.7339\n",
      "Epoch 160/400\n",
      "466/466 [==============================] - 0s 148us/step - loss: 0.4939 - acc: 0.7339\n",
      "Epoch 161/400\n",
      "466/466 [==============================] - 0s 139us/step - loss: 0.4940 - acc: 0.7339\n",
      "Epoch 162/400\n",
      "466/466 [==============================] - 0s 217us/step - loss: 0.4942 - acc: 0.7339\n",
      "Epoch 163/400\n",
      "466/466 [==============================] - 0s 227us/step - loss: 0.4937 - acc: 0.7339\n",
      "Epoch 164/400\n"
     ]
    },
    {
     "name": "stdout",
     "output_type": "stream",
     "text": [
      "466/466 [==============================] - 0s 142us/step - loss: 0.4936 - acc: 0.7339\n",
      "Epoch 165/400\n",
      "466/466 [==============================] - 0s 112us/step - loss: 0.4940 - acc: 0.7361\n",
      "Epoch 166/400\n",
      "466/466 [==============================] - 0s 118us/step - loss: 0.4938 - acc: 0.7361\n",
      "Epoch 167/400\n",
      "466/466 [==============================] - 0s 99us/step - loss: 0.4933 - acc: 0.7446\n",
      "Epoch 168/400\n",
      "466/466 [==============================] - 0s 101us/step - loss: 0.4938 - acc: 0.7339\n",
      "Epoch 169/400\n",
      "466/466 [==============================] - 0s 101us/step - loss: 0.4941 - acc: 0.7318\n",
      "Epoch 170/400\n",
      "466/466 [==============================] - 0s 97us/step - loss: 0.4938 - acc: 0.7296\n",
      "Epoch 171/400\n",
      "466/466 [==============================] - 0s 84us/step - loss: 0.4937 - acc: 0.7318\n",
      "Epoch 172/400\n",
      "466/466 [==============================] - 0s 86us/step - loss: 0.4934 - acc: 0.7318\n",
      "Epoch 173/400\n",
      "466/466 [==============================] - 0s 103us/step - loss: 0.4948 - acc: 0.7382\n",
      "Epoch 174/400\n",
      "466/466 [==============================] - 0s 103us/step - loss: 0.4941 - acc: 0.7361\n",
      "Epoch 175/400\n",
      "466/466 [==============================] - 0s 116us/step - loss: 0.4931 - acc: 0.7339\n",
      "Epoch 176/400\n",
      "466/466 [==============================] - 0s 88us/step - loss: 0.4938 - acc: 0.7318\n",
      "Epoch 177/400\n",
      "466/466 [==============================] - 0s 79us/step - loss: 0.4930 - acc: 0.7382\n",
      "Epoch 178/400\n",
      "466/466 [==============================] - 0s 101us/step - loss: 0.4933 - acc: 0.7361\n",
      "Epoch 179/400\n",
      "466/466 [==============================] - 0s 94us/step - loss: 0.4931 - acc: 0.7339\n",
      "Epoch 180/400\n",
      "466/466 [==============================] - 0s 114us/step - loss: 0.4938 - acc: 0.7296\n",
      "Epoch 181/400\n",
      "466/466 [==============================] - 0s 94us/step - loss: 0.4930 - acc: 0.7318\n",
      "Epoch 182/400\n",
      "466/466 [==============================] - 0s 75us/step - loss: 0.4930 - acc: 0.7318\n",
      "Epoch 183/400\n",
      "466/466 [==============================] - 0s 79us/step - loss: 0.4935 - acc: 0.7361\n",
      "Epoch 184/400\n",
      "466/466 [==============================] - 0s 77us/step - loss: 0.4925 - acc: 0.7339\n",
      "Epoch 185/400\n",
      "466/466 [==============================] - 0s 77us/step - loss: 0.4932 - acc: 0.7275\n",
      "Epoch 186/400\n",
      "466/466 [==============================] - 0s 73us/step - loss: 0.4931 - acc: 0.7382\n",
      "Epoch 187/400\n",
      "466/466 [==============================] - 0s 81us/step - loss: 0.4930 - acc: 0.7318\n",
      "Epoch 188/400\n",
      "466/466 [==============================] - 0s 86us/step - loss: 0.4932 - acc: 0.7296\n",
      "Epoch 189/400\n",
      "466/466 [==============================] - 0s 81us/step - loss: 0.4930 - acc: 0.7318\n",
      "Epoch 190/400\n",
      "466/466 [==============================] - 0s 73us/step - loss: 0.4927 - acc: 0.7361\n",
      "Epoch 191/400\n",
      "466/466 [==============================] - 0s 84us/step - loss: 0.4930 - acc: 0.7361\n",
      "Epoch 192/400\n",
      "466/466 [==============================] - 0s 79us/step - loss: 0.4928 - acc: 0.7296\n",
      "Epoch 193/400\n",
      "466/466 [==============================] - 0s 79us/step - loss: 0.4929 - acc: 0.7318\n",
      "Epoch 194/400\n",
      "466/466 [==============================] - 0s 73us/step - loss: 0.4926 - acc: 0.7296\n",
      "Epoch 195/400\n",
      "466/466 [==============================] - 0s 73us/step - loss: 0.4926 - acc: 0.7253\n",
      "Epoch 196/400\n",
      "466/466 [==============================] - 0s 71us/step - loss: 0.4922 - acc: 0.7275\n",
      "Epoch 197/400\n",
      "466/466 [==============================] - 0s 75us/step - loss: 0.4926 - acc: 0.7318\n",
      "Epoch 198/400\n",
      "466/466 [==============================] - 0s 77us/step - loss: 0.4923 - acc: 0.7296\n",
      "Epoch 199/400\n",
      "466/466 [==============================] - 0s 77us/step - loss: 0.4936 - acc: 0.7189\n",
      "Epoch 200/400\n",
      "466/466 [==============================] - 0s 73us/step - loss: 0.4919 - acc: 0.7296\n",
      "Epoch 201/400\n",
      "466/466 [==============================] - 0s 77us/step - loss: 0.4929 - acc: 0.7253\n",
      "Epoch 202/400\n",
      "466/466 [==============================] - 0s 77us/step - loss: 0.4924 - acc: 0.7318\n",
      "Epoch 203/400\n",
      "466/466 [==============================] - 0s 71us/step - loss: 0.4924 - acc: 0.7318\n",
      "Epoch 204/400\n",
      "466/466 [==============================] - 0s 81us/step - loss: 0.4920 - acc: 0.7318\n",
      "Epoch 205/400\n",
      "466/466 [==============================] - 0s 75us/step - loss: 0.4925 - acc: 0.7253\n",
      "Epoch 206/400\n",
      "466/466 [==============================] - 0s 86us/step - loss: 0.4921 - acc: 0.7339\n",
      "Epoch 207/400\n",
      "466/466 [==============================] - 0s 84us/step - loss: 0.4921 - acc: 0.7275\n",
      "Epoch 208/400\n",
      "466/466 [==============================] - 0s 75us/step - loss: 0.4924 - acc: 0.7296\n",
      "Epoch 209/400\n",
      "466/466 [==============================] - 0s 103us/step - loss: 0.4921 - acc: 0.7296\n",
      "Epoch 210/400\n",
      "466/466 [==============================] - 0s 75us/step - loss: 0.4924 - acc: 0.7318\n",
      "Epoch 211/400\n",
      "466/466 [==============================] - 0s 86us/step - loss: 0.4924 - acc: 0.7296\n",
      "Epoch 212/400\n",
      "466/466 [==============================] - 0s 79us/step - loss: 0.4920 - acc: 0.7253\n",
      "Epoch 213/400\n",
      "466/466 [==============================] - 0s 109us/step - loss: 0.4927 - acc: 0.7210\n",
      "Epoch 214/400\n",
      "466/466 [==============================] - 0s 90us/step - loss: 0.4923 - acc: 0.7253\n",
      "Epoch 215/400\n",
      "466/466 [==============================] - 0s 73us/step - loss: 0.4917 - acc: 0.7318\n",
      "Epoch 216/400\n",
      "466/466 [==============================] - 0s 77us/step - loss: 0.4913 - acc: 0.7275\n",
      "Epoch 217/400\n",
      "466/466 [==============================] - 0s 77us/step - loss: 0.4918 - acc: 0.7296\n",
      "Epoch 218/400\n",
      "466/466 [==============================] - 0s 77us/step - loss: 0.4923 - acc: 0.7318\n",
      "Epoch 219/400\n",
      "466/466 [==============================] - 0s 71us/step - loss: 0.4916 - acc: 0.7275\n",
      "Epoch 220/400\n",
      "466/466 [==============================] - 0s 77us/step - loss: 0.4922 - acc: 0.7275\n",
      "Epoch 221/400\n",
      "466/466 [==============================] - ETA: 0s - loss: 0.5488 - acc: 0.750 - 0s 75us/step - loss: 0.4913 - acc: 0.7339\n",
      "Epoch 222/400\n",
      "466/466 [==============================] - 0s 75us/step - loss: 0.4927 - acc: 0.7253\n",
      "Epoch 223/400\n",
      "466/466 [==============================] - 0s 71us/step - loss: 0.4918 - acc: 0.7253\n",
      "Epoch 224/400\n",
      "466/466 [==============================] - 0s 77us/step - loss: 0.4924 - acc: 0.7275\n",
      "Epoch 225/400\n",
      "466/466 [==============================] - 0s 73us/step - loss: 0.4920 - acc: 0.7253\n",
      "Epoch 226/400\n",
      "466/466 [==============================] - 0s 79us/step - loss: 0.4921 - acc: 0.7318\n",
      "Epoch 227/400\n",
      "466/466 [==============================] - 0s 90us/step - loss: 0.4920 - acc: 0.7210\n",
      "Epoch 228/400\n",
      "466/466 [==============================] - 0s 79us/step - loss: 0.4917 - acc: 0.7253\n",
      "Epoch 229/400\n",
      "466/466 [==============================] - 0s 75us/step - loss: 0.4919 - acc: 0.7253\n",
      "Epoch 230/400\n",
      "466/466 [==============================] - 0s 69us/step - loss: 0.4913 - acc: 0.7210\n",
      "Epoch 231/400\n",
      "466/466 [==============================] - 0s 69us/step - loss: 0.4913 - acc: 0.7210\n",
      "Epoch 232/400\n",
      "466/466 [==============================] - 0s 71us/step - loss: 0.4915 - acc: 0.7296\n",
      "Epoch 233/400\n",
      "466/466 [==============================] - 0s 81us/step - loss: 0.4913 - acc: 0.7361\n",
      "Epoch 234/400\n",
      "466/466 [==============================] - 0s 73us/step - loss: 0.4913 - acc: 0.7339\n",
      "Epoch 235/400\n",
      "466/466 [==============================] - 0s 77us/step - loss: 0.4915 - acc: 0.7275\n",
      "Epoch 236/400\n",
      "466/466 [==============================] - 0s 81us/step - loss: 0.4913 - acc: 0.7275\n",
      "Epoch 237/400\n",
      "466/466 [==============================] - 0s 75us/step - loss: 0.4919 - acc: 0.7232\n",
      "Epoch 238/400\n",
      "466/466 [==============================] - 0s 73us/step - loss: 0.4916 - acc: 0.7253\n",
      "Epoch 239/400\n",
      "466/466 [==============================] - 0s 71us/step - loss: 0.4913 - acc: 0.7318\n",
      "Epoch 240/400\n",
      "466/466 [==============================] - 0s 75us/step - loss: 0.4911 - acc: 0.7253\n",
      "Epoch 241/400\n",
      "466/466 [==============================] - 0s 71us/step - loss: 0.4908 - acc: 0.7232\n",
      "Epoch 242/400\n",
      "466/466 [==============================] - 0s 77us/step - loss: 0.4912 - acc: 0.7253\n",
      "Epoch 243/400\n",
      "466/466 [==============================] - 0s 88us/step - loss: 0.4912 - acc: 0.7275\n",
      "Epoch 244/400\n",
      "466/466 [==============================] - 0s 97us/step - loss: 0.4909 - acc: 0.7275\n",
      "Epoch 245/400\n",
      "466/466 [==============================] - 0s 81us/step - loss: 0.4916 - acc: 0.7253\n",
      "Epoch 246/400\n"
     ]
    },
    {
     "name": "stdout",
     "output_type": "stream",
     "text": [
      "466/466 [==============================] - 0s 77us/step - loss: 0.4912 - acc: 0.7296\n",
      "Epoch 247/400\n",
      "466/466 [==============================] - 0s 77us/step - loss: 0.4912 - acc: 0.7318\n",
      "Epoch 248/400\n",
      "466/466 [==============================] - 0s 73us/step - loss: 0.4911 - acc: 0.7318\n",
      "Epoch 249/400\n",
      "466/466 [==============================] - 0s 75us/step - loss: 0.4907 - acc: 0.7253\n",
      "Epoch 250/400\n",
      "466/466 [==============================] - 0s 71us/step - loss: 0.4905 - acc: 0.7253\n",
      "Epoch 251/400\n",
      "466/466 [==============================] - 0s 94us/step - loss: 0.4912 - acc: 0.7275\n",
      "Epoch 252/400\n",
      "466/466 [==============================] - 0s 88us/step - loss: 0.4907 - acc: 0.7296\n",
      "Epoch 253/400\n",
      "466/466 [==============================] - 0s 94us/step - loss: 0.4905 - acc: 0.7253\n",
      "Epoch 254/400\n",
      "466/466 [==============================] - 0s 92us/step - loss: 0.4905 - acc: 0.7253\n",
      "Epoch 255/400\n",
      "466/466 [==============================] - 0s 92us/step - loss: 0.4904 - acc: 0.7318\n",
      "Epoch 256/400\n",
      "466/466 [==============================] - 0s 86us/step - loss: 0.4902 - acc: 0.7253\n",
      "Epoch 257/400\n",
      "466/466 [==============================] - 0s 84us/step - loss: 0.4905 - acc: 0.7253\n",
      "Epoch 258/400\n",
      "466/466 [==============================] - 0s 79us/step - loss: 0.4906 - acc: 0.7275\n",
      "Epoch 259/400\n",
      "466/466 [==============================] - 0s 84us/step - loss: 0.4903 - acc: 0.7253\n",
      "Epoch 260/400\n",
      "466/466 [==============================] - 0s 77us/step - loss: 0.4910 - acc: 0.7275\n",
      "Epoch 261/400\n",
      "466/466 [==============================] - 0s 101us/step - loss: 0.4906 - acc: 0.7318\n",
      "Epoch 262/400\n",
      "466/466 [==============================] - 0s 114us/step - loss: 0.4907 - acc: 0.7275\n",
      "Epoch 263/400\n",
      "466/466 [==============================] - 0s 90us/step - loss: 0.4905 - acc: 0.7232\n",
      "Epoch 264/400\n",
      "466/466 [==============================] - 0s 103us/step - loss: 0.4902 - acc: 0.7253\n",
      "Epoch 265/400\n",
      "466/466 [==============================] - 0s 101us/step - loss: 0.4903 - acc: 0.7232\n",
      "Epoch 266/400\n",
      "466/466 [==============================] - 0s 97us/step - loss: 0.4903 - acc: 0.7253\n",
      "Epoch 267/400\n",
      "466/466 [==============================] - 0s 90us/step - loss: 0.4908 - acc: 0.7253\n",
      "Epoch 268/400\n",
      "466/466 [==============================] - 0s 84us/step - loss: 0.4900 - acc: 0.7253\n",
      "Epoch 269/400\n",
      "466/466 [==============================] - 0s 79us/step - loss: 0.4904 - acc: 0.7232\n",
      "Epoch 270/400\n",
      "466/466 [==============================] - 0s 112us/step - loss: 0.4906 - acc: 0.7318\n",
      "Epoch 271/400\n",
      "466/466 [==============================] - 0s 144us/step - loss: 0.4901 - acc: 0.7318\n",
      "Epoch 272/400\n",
      "466/466 [==============================] - 0s 107us/step - loss: 0.4908 - acc: 0.7318\n",
      "Epoch 273/400\n",
      "466/466 [==============================] - 0s 99us/step - loss: 0.4899 - acc: 0.7232\n",
      "Epoch 274/400\n",
      "466/466 [==============================] - 0s 92us/step - loss: 0.4903 - acc: 0.7253\n",
      "Epoch 275/400\n",
      "466/466 [==============================] - 0s 99us/step - loss: 0.4904 - acc: 0.7275\n",
      "Epoch 276/400\n",
      "466/466 [==============================] - 0s 120us/step - loss: 0.4899 - acc: 0.7275\n",
      "Epoch 277/400\n",
      "466/466 [==============================] - 0s 107us/step - loss: 0.4897 - acc: 0.7296\n",
      "Epoch 278/400\n",
      "466/466 [==============================] - 0s 116us/step - loss: 0.4900 - acc: 0.7275\n",
      "Epoch 279/400\n",
      "466/466 [==============================] - 0s 112us/step - loss: 0.4905 - acc: 0.7296\n",
      "Epoch 280/400\n",
      "466/466 [==============================] - 0s 103us/step - loss: 0.4898 - acc: 0.7318\n",
      "Epoch 281/400\n",
      "466/466 [==============================] - 0s 101us/step - loss: 0.4906 - acc: 0.7275\n",
      "Epoch 282/400\n",
      "466/466 [==============================] - ETA: 0s - loss: 0.4908 - acc: 0.738 - 0s 154us/step - loss: 0.4903 - acc: 0.7361\n",
      "Epoch 283/400\n",
      "466/466 [==============================] - 0s 176us/step - loss: 0.4903 - acc: 0.7232\n",
      "Epoch 284/400\n",
      "466/466 [==============================] - 0s 184us/step - loss: 0.4907 - acc: 0.7275\n",
      "Epoch 285/400\n",
      "466/466 [==============================] - 0s 193us/step - loss: 0.4898 - acc: 0.7275\n",
      "Epoch 286/400\n",
      "466/466 [==============================] - 0s 172us/step - loss: 0.4896 - acc: 0.7253\n",
      "Epoch 287/400\n",
      "466/466 [==============================] - 0s 154us/step - loss: 0.4893 - acc: 0.7275\n",
      "Epoch 288/400\n",
      "466/466 [==============================] - 0s 103us/step - loss: 0.4895 - acc: 0.7275\n",
      "Epoch 289/400\n",
      "466/466 [==============================] - 0s 114us/step - loss: 0.4894 - acc: 0.7275\n",
      "Epoch 290/400\n",
      "466/466 [==============================] - 0s 109us/step - loss: 0.4896 - acc: 0.7296\n",
      "Epoch 291/400\n",
      "466/466 [==============================] - 0s 133us/step - loss: 0.4896 - acc: 0.7275\n",
      "Epoch 292/400\n",
      "466/466 [==============================] - 0s 127us/step - loss: 0.4893 - acc: 0.7232 0s - loss: 0.4923 - acc: 0.719\n",
      "Epoch 293/400\n",
      "466/466 [==============================] - 0s 148us/step - loss: 0.4897 - acc: 0.7275\n",
      "Epoch 294/400\n",
      "466/466 [==============================] - 0s 112us/step - loss: 0.4899 - acc: 0.7318\n",
      "Epoch 295/400\n",
      "466/466 [==============================] - 0s 94us/step - loss: 0.4892 - acc: 0.7318\n",
      "Epoch 296/400\n",
      "466/466 [==============================] - 0s 90us/step - loss: 0.4895 - acc: 0.7339\n",
      "Epoch 297/400\n",
      "466/466 [==============================] - 0s 97us/step - loss: 0.4891 - acc: 0.7296\n",
      "Epoch 298/400\n",
      "466/466 [==============================] - ETA: 0s - loss: 0.5474 - acc: 0.650 - 0s 114us/step - loss: 0.4898 - acc: 0.7275\n",
      "Epoch 299/400\n",
      "466/466 [==============================] - 0s 112us/step - loss: 0.4893 - acc: 0.7232\n",
      "Epoch 300/400\n",
      "466/466 [==============================] - 0s 99us/step - loss: 0.4889 - acc: 0.7275\n",
      "Epoch 301/400\n",
      "466/466 [==============================] - 0s 105us/step - loss: 0.4890 - acc: 0.7339\n",
      "Epoch 302/400\n",
      "466/466 [==============================] - 0s 92us/step - loss: 0.4888 - acc: 0.7339\n",
      "Epoch 303/400\n",
      "466/466 [==============================] - 0s 97us/step - loss: 0.4891 - acc: 0.7339\n",
      "Epoch 304/400\n",
      "466/466 [==============================] - 0s 88us/step - loss: 0.4888 - acc: 0.7318\n",
      "Epoch 305/400\n",
      "466/466 [==============================] - 0s 135us/step - loss: 0.4890 - acc: 0.7339\n",
      "Epoch 306/400\n",
      "466/466 [==============================] - 0s 148us/step - loss: 0.4895 - acc: 0.7275\n",
      "Epoch 307/400\n",
      "466/466 [==============================] - 0s 148us/step - loss: 0.4892 - acc: 0.7318\n",
      "Epoch 308/400\n",
      "466/466 [==============================] - 0s 169us/step - loss: 0.4888 - acc: 0.7339\n",
      "Epoch 309/400\n",
      "466/466 [==============================] - 0s 103us/step - loss: 0.4889 - acc: 0.7253\n",
      "Epoch 310/400\n",
      "466/466 [==============================] - 0s 92us/step - loss: 0.4887 - acc: 0.7253\n",
      "Epoch 311/400\n",
      "466/466 [==============================] - 0s 88us/step - loss: 0.4886 - acc: 0.7296\n",
      "Epoch 312/400\n",
      "466/466 [==============================] - 0s 86us/step - loss: 0.4890 - acc: 0.7253\n",
      "Epoch 313/400\n",
      "466/466 [==============================] - 0s 99us/step - loss: 0.4890 - acc: 0.7232\n",
      "Epoch 314/400\n",
      "466/466 [==============================] - 0s 103us/step - loss: 0.4889 - acc: 0.7253\n",
      "Epoch 315/400\n",
      "466/466 [==============================] - 0s 84us/step - loss: 0.4885 - acc: 0.7339\n",
      "Epoch 316/400\n",
      "466/466 [==============================] - 0s 105us/step - loss: 0.4895 - acc: 0.7296\n",
      "Epoch 317/400\n",
      "466/466 [==============================] - 0s 105us/step - loss: 0.4890 - acc: 0.7425\n",
      "Epoch 318/400\n",
      "466/466 [==============================] - 0s 131us/step - loss: 0.4895 - acc: 0.7275\n",
      "Epoch 319/400\n",
      "466/466 [==============================] - 0s 107us/step - loss: 0.4883 - acc: 0.7232\n",
      "Epoch 320/400\n",
      "466/466 [==============================] - 0s 109us/step - loss: 0.4896 - acc: 0.7318\n",
      "Epoch 321/400\n",
      "466/466 [==============================] - 0s 114us/step - loss: 0.4884 - acc: 0.7361\n",
      "Epoch 322/400\n",
      "466/466 [==============================] - 0s 107us/step - loss: 0.4891 - acc: 0.7253\n",
      "Epoch 323/400\n",
      "466/466 [==============================] - 0s 82us/step - loss: 0.4888 - acc: 0.7275\n",
      "Epoch 324/400\n",
      "466/466 [==============================] - 0s 94us/step - loss: 0.4883 - acc: 0.7275\n",
      "Epoch 325/400\n",
      "466/466 [==============================] - 0s 97us/step - loss: 0.4894 - acc: 0.7403\n",
      "Epoch 326/400\n",
      "466/466 [==============================] - 0s 94us/step - loss: 0.4880 - acc: 0.7318\n",
      "Epoch 327/400\n"
     ]
    },
    {
     "name": "stdout",
     "output_type": "stream",
     "text": [
      "466/466 [==============================] - 0s 97us/step - loss: 0.4892 - acc: 0.7296\n",
      "Epoch 328/400\n",
      "466/466 [==============================] - 0s 103us/step - loss: 0.4888 - acc: 0.7275\n",
      "Epoch 329/400\n",
      "466/466 [==============================] - 0s 103us/step - loss: 0.4888 - acc: 0.7296\n",
      "Epoch 330/400\n",
      "466/466 [==============================] - 0s 90us/step - loss: 0.4882 - acc: 0.7275\n",
      "Epoch 331/400\n",
      "466/466 [==============================] - 0s 84us/step - loss: 0.4884 - acc: 0.7253\n",
      "Epoch 332/400\n",
      "466/466 [==============================] - 0s 90us/step - loss: 0.4883 - acc: 0.7318\n",
      "Epoch 333/400\n",
      "466/466 [==============================] - 0s 92us/step - loss: 0.4883 - acc: 0.7318\n",
      "Epoch 334/400\n",
      "466/466 [==============================] - 0s 86us/step - loss: 0.4883 - acc: 0.7318\n",
      "Epoch 335/400\n",
      "466/466 [==============================] - 0s 137us/step - loss: 0.4879 - acc: 0.7318\n",
      "Epoch 336/400\n",
      "466/466 [==============================] - 0s 109us/step - loss: 0.4883 - acc: 0.7339\n",
      "Epoch 337/400\n",
      "466/466 [==============================] - 0s 84us/step - loss: 0.4889 - acc: 0.7296\n",
      "Epoch 338/400\n",
      "466/466 [==============================] - 0s 81us/step - loss: 0.4883 - acc: 0.7446\n",
      "Epoch 339/400\n",
      "466/466 [==============================] - 0s 77us/step - loss: 0.4881 - acc: 0.7275\n",
      "Epoch 340/400\n",
      "466/466 [==============================] - 0s 79us/step - loss: 0.4881 - acc: 0.7296\n",
      "Epoch 341/400\n",
      "466/466 [==============================] - 0s 81us/step - loss: 0.4882 - acc: 0.7339\n",
      "Epoch 342/400\n",
      "466/466 [==============================] - ETA: 0s - loss: 0.4517 - acc: 0.800 - 0s 75us/step - loss: 0.4878 - acc: 0.7382\n",
      "Epoch 343/400\n",
      "466/466 [==============================] - 0s 75us/step - loss: 0.4874 - acc: 0.7339\n",
      "Epoch 344/400\n",
      "466/466 [==============================] - 0s 77us/step - loss: 0.4875 - acc: 0.7318\n",
      "Epoch 345/400\n",
      "466/466 [==============================] - 0s 79us/step - loss: 0.4891 - acc: 0.7232\n",
      "Epoch 346/400\n",
      "466/466 [==============================] - 0s 79us/step - loss: 0.4885 - acc: 0.7403\n",
      "Epoch 347/400\n",
      "466/466 [==============================] - 0s 84us/step - loss: 0.4889 - acc: 0.7339\n",
      "Epoch 348/400\n",
      "466/466 [==============================] - 0s 88us/step - loss: 0.4873 - acc: 0.7318\n",
      "Epoch 349/400\n",
      "466/466 [==============================] - 0s 77us/step - loss: 0.4874 - acc: 0.7339\n",
      "Epoch 350/400\n",
      "466/466 [==============================] - 0s 77us/step - loss: 0.4878 - acc: 0.7318\n",
      "Epoch 351/400\n",
      "466/466 [==============================] - 0s 86us/step - loss: 0.4874 - acc: 0.7318\n",
      "Epoch 352/400\n",
      "466/466 [==============================] - 0s 81us/step - loss: 0.4876 - acc: 0.7296\n",
      "Epoch 353/400\n",
      "466/466 [==============================] - 0s 99us/step - loss: 0.4876 - acc: 0.7296\n",
      "Epoch 354/400\n",
      "466/466 [==============================] - 0s 81us/step - loss: 0.4875 - acc: 0.7339\n",
      "Epoch 355/400\n",
      "466/466 [==============================] - 0s 79us/step - loss: 0.4880 - acc: 0.7275\n",
      "Epoch 356/400\n",
      "466/466 [==============================] - 0s 77us/step - loss: 0.4875 - acc: 0.7361\n",
      "Epoch 357/400\n",
      "466/466 [==============================] - 0s 75us/step - loss: 0.4882 - acc: 0.7361\n",
      "Epoch 358/400\n",
      "466/466 [==============================] - 0s 101us/step - loss: 0.4868 - acc: 0.7339\n",
      "Epoch 359/400\n",
      "466/466 [==============================] - 0s 97us/step - loss: 0.4872 - acc: 0.7339\n",
      "Epoch 360/400\n",
      "466/466 [==============================] - 0s 90us/step - loss: 0.4870 - acc: 0.7361\n",
      "Epoch 361/400\n",
      "466/466 [==============================] - 0s 94us/step - loss: 0.4873 - acc: 0.7296\n",
      "Epoch 362/400\n",
      "466/466 [==============================] - 0s 75us/step - loss: 0.4874 - acc: 0.7339\n",
      "Epoch 363/400\n",
      "466/466 [==============================] - 0s 81us/step - loss: 0.4874 - acc: 0.7296\n",
      "Epoch 364/400\n",
      "466/466 [==============================] - 0s 79us/step - loss: 0.4879 - acc: 0.7275\n",
      "Epoch 365/400\n",
      "466/466 [==============================] - 0s 79us/step - loss: 0.4872 - acc: 0.7296\n",
      "Epoch 366/400\n",
      "466/466 [==============================] - 0s 79us/step - loss: 0.4869 - acc: 0.7361\n",
      "Epoch 367/400\n",
      "466/466 [==============================] - 0s 86us/step - loss: 0.4872 - acc: 0.7361\n",
      "Epoch 368/400\n",
      "466/466 [==============================] - 0s 79us/step - loss: 0.4872 - acc: 0.7318\n",
      "Epoch 369/400\n",
      "466/466 [==============================] - 0s 79us/step - loss: 0.4871 - acc: 0.7296\n",
      "Epoch 370/400\n",
      "466/466 [==============================] - 0s 75us/step - loss: 0.4873 - acc: 0.7339\n",
      "Epoch 371/400\n",
      "466/466 [==============================] - 0s 86us/step - loss: 0.4882 - acc: 0.7275\n",
      "Epoch 372/400\n",
      "466/466 [==============================] - 0s 75us/step - loss: 0.4876 - acc: 0.7382\n",
      "Epoch 373/400\n",
      "466/466 [==============================] - 0s 79us/step - loss: 0.4872 - acc: 0.7425\n",
      "Epoch 374/400\n",
      "466/466 [==============================] - 0s 88us/step - loss: 0.4865 - acc: 0.7318\n",
      "Epoch 375/400\n",
      "466/466 [==============================] - 0s 81us/step - loss: 0.4874 - acc: 0.7296\n",
      "Epoch 376/400\n",
      "466/466 [==============================] - ETA: 0s - loss: 0.6433 - acc: 0.650 - 0s 86us/step - loss: 0.4871 - acc: 0.7339\n",
      "Epoch 377/400\n",
      "466/466 [==============================] - 0s 81us/step - loss: 0.4872 - acc: 0.7296\n",
      "Epoch 378/400\n",
      "466/466 [==============================] - 0s 75us/step - loss: 0.4881 - acc: 0.7468\n",
      "Epoch 379/400\n",
      "466/466 [==============================] - 0s 75us/step - loss: 0.4866 - acc: 0.7339\n",
      "Epoch 380/400\n",
      "466/466 [==============================] - 0s 84us/step - loss: 0.4883 - acc: 0.7296\n",
      "Epoch 381/400\n",
      "466/466 [==============================] - 0s 77us/step - loss: 0.4873 - acc: 0.7296\n",
      "Epoch 382/400\n",
      "466/466 [==============================] - 0s 75us/step - loss: 0.4870 - acc: 0.7339\n",
      "Epoch 383/400\n",
      "466/466 [==============================] - 0s 79us/step - loss: 0.4863 - acc: 0.7382\n",
      "Epoch 384/400\n",
      "466/466 [==============================] - 0s 84us/step - loss: 0.4873 - acc: 0.7403\n",
      "Epoch 385/400\n",
      "466/466 [==============================] - 0s 81us/step - loss: 0.4864 - acc: 0.7339\n",
      "Epoch 386/400\n",
      "466/466 [==============================] - 0s 81us/step - loss: 0.4868 - acc: 0.7339\n",
      "Epoch 387/400\n",
      "466/466 [==============================] - 0s 81us/step - loss: 0.4869 - acc: 0.7339\n",
      "Epoch 388/400\n",
      "466/466 [==============================] - 0s 84us/step - loss: 0.4871 - acc: 0.7318\n",
      "Epoch 389/400\n",
      "466/466 [==============================] - 0s 79us/step - loss: 0.4870 - acc: 0.7403\n",
      "Epoch 390/400\n",
      "466/466 [==============================] - 0s 77us/step - loss: 0.4874 - acc: 0.7361\n",
      "Epoch 391/400\n",
      "466/466 [==============================] - 0s 79us/step - loss: 0.4869 - acc: 0.7339\n",
      "Epoch 392/400\n",
      "466/466 [==============================] - 0s 88us/step - loss: 0.4874 - acc: 0.7339\n",
      "Epoch 393/400\n",
      "466/466 [==============================] - 0s 81us/step - loss: 0.4865 - acc: 0.7296\n",
      "Epoch 394/400\n",
      "466/466 [==============================] - 0s 75us/step - loss: 0.4867 - acc: 0.7318\n",
      "Epoch 395/400\n",
      "466/466 [==============================] - 0s 77us/step - loss: 0.4862 - acc: 0.7339\n",
      "Epoch 396/400\n",
      "466/466 [==============================] - 0s 88us/step - loss: 0.4869 - acc: 0.7361\n",
      "Epoch 397/400\n",
      "466/466 [==============================] - 0s 79us/step - loss: 0.4868 - acc: 0.7339\n",
      "Epoch 398/400\n",
      "466/466 [==============================] - 0s 73us/step - loss: 0.4864 - acc: 0.7318\n",
      "Epoch 399/400\n",
      "466/466 [==============================] - 0s 88us/step - loss: 0.4863 - acc: 0.7253\n",
      "Epoch 400/400\n",
      "466/466 [==============================] - 0s 81us/step - loss: 0.4863 - acc: 0.7446\n"
     ]
    },
    {
     "data": {
      "text/plain": [
       "<keras.callbacks.History at 0x25aee84e668>"
      ]
     },
     "execution_count": 198,
     "metadata": {},
     "output_type": "execute_result"
    }
   ],
   "source": [
    "#Fitting the data to our model\n",
    "model.fit(X_train,y_train,batch_size=20,epochs=400)"
   ]
  },
  {
   "cell_type": "code",
   "execution_count": 203,
   "metadata": {},
   "outputs": [],
   "source": [
    "#Making Prediction from our model\n",
    "predictions=model.predict(X_test)"
   ]
  },
  {
   "cell_type": "code",
   "execution_count": 206,
   "metadata": {},
   "outputs": [],
   "source": [
    "#converting the probablitiy obtained using the predict method to the binary output \n",
    "predictions=(predictions>0.5)\n"
   ]
  },
  {
   "cell_type": "code",
   "execution_count": 207,
   "metadata": {},
   "outputs": [],
   "source": [
    "#Importing the library and Evaluating the performance of our ANN Model on the test set\n",
    "from sklearn.metrics import confusion_matrix,classification_report,accuracy_score"
   ]
  },
  {
   "cell_type": "code",
   "execution_count": 208,
   "metadata": {},
   "outputs": [
    {
     "name": "stdout",
     "output_type": "stream",
     "text": [
      "Confusion Matrix \n",
      " [[80 10]\n",
      " [15 12]]\n"
     ]
    }
   ],
   "source": [
    "print('Confusion Matrix \\n',confusion_matrix(y_test,predictions))"
   ]
  },
  {
   "cell_type": "code",
   "execution_count": 209,
   "metadata": {},
   "outputs": [
    {
     "name": "stdout",
     "output_type": "stream",
     "text": [
      "Classification Report \n",
      "               precision    recall  f1-score   support\n",
      "\n",
      "           0       0.84      0.89      0.86        90\n",
      "           1       0.55      0.44      0.49        27\n",
      "\n",
      "   micro avg       0.79      0.79      0.79       117\n",
      "   macro avg       0.69      0.67      0.68       117\n",
      "weighted avg       0.77      0.79      0.78       117\n",
      "\n"
     ]
    }
   ],
   "source": [
    "#Printing the Classifcation Report\n",
    "print('Classification Report \\n',classification_report(y_test,predictions))"
   ]
  },
  {
   "cell_type": "code",
   "execution_count": 210,
   "metadata": {},
   "outputs": [
    {
     "name": "stdout",
     "output_type": "stream",
     "text": [
      "Accuracy of our mode when applied on test set- 0.7863247863247863\n"
     ]
    }
   ],
   "source": [
    "#Printing the Classifcation Report\n",
    "print('Accuracy of our mode when applied on test set-',accuracy_score(y_test,predictions))"
   ]
  },
  {
   "cell_type": "code",
   "execution_count": null,
   "metadata": {},
   "outputs": [],
   "source": []
  }
 ],
 "metadata": {
  "kernelspec": {
   "display_name": "Python 3",
   "language": "python",
   "name": "python3"
  },
  "language_info": {
   "codemirror_mode": {
    "name": "ipython",
    "version": 3
   },
   "file_extension": ".py",
   "mimetype": "text/x-python",
   "name": "python",
   "nbconvert_exporter": "python",
   "pygments_lexer": "ipython3",
   "version": "3.6.7"
  }
 },
 "nbformat": 4,
 "nbformat_minor": 2
}
